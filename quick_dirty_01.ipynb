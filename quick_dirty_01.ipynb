{
 "cells": [
  {
   "cell_type": "code",
   "execution_count": 2,
   "id": "dbd40f12-3101-4b9c-ad24-cf2a34590971",
   "metadata": {},
   "outputs": [],
   "source": [
    "import boto3\n",
    "import pandas as pd\n",
    "from io import StringIO"
   ]
  },
  {
   "cell_type": "code",
   "execution_count": 6,
   "id": "a86acbb1-f1cf-40f5-82e4-cb2d83af9d6a",
   "metadata": {},
   "outputs": [],
   "source": [
    "s3=boto3.resource('s3')\n",
    "bucket=s3.Bucket('xetra-1234')"
   ]
  },
  {
   "cell_type": "code",
   "execution_count": 8,
   "id": "cb2520ee-b35f-4a1a-9fe7-1252fb8124ef",
   "metadata": {},
   "outputs": [],
   "source": [
    "bucket_obj1 = bucket.objects.filter(Prefix='2022-01-27/')\n",
    "bucket_obj2 = bucket.objects.filter(Prefix='2022-01-28/')\n",
    "\n",
    "objects=[obj for obj in bucket_obj1]+[obj for obj in bucket_obj2]"
   ]
  },
  {
   "cell_type": "code",
   "execution_count": 9,
   "id": "07ddaab8-0ee4-41e3-a6aa-22a338b12799",
   "metadata": {
    "scrolled": true
   },
   "outputs": [
    {
     "data": {
      "text/plain": [
       "[s3.ObjectSummary(bucket_name='xetra-1234', key='2022-01-27/2022-01-27_BINS_XETR00.csv'),\n",
       " s3.ObjectSummary(bucket_name='xetra-1234', key='2022-01-27/2022-01-27_BINS_XETR01.csv'),\n",
       " s3.ObjectSummary(bucket_name='xetra-1234', key='2022-01-27/2022-01-27_BINS_XETR02.csv'),\n",
       " s3.ObjectSummary(bucket_name='xetra-1234', key='2022-01-27/2022-01-27_BINS_XETR03.csv'),\n",
       " s3.ObjectSummary(bucket_name='xetra-1234', key='2022-01-27/2022-01-27_BINS_XETR04.csv'),\n",
       " s3.ObjectSummary(bucket_name='xetra-1234', key='2022-01-27/2022-01-27_BINS_XETR05.csv'),\n",
       " s3.ObjectSummary(bucket_name='xetra-1234', key='2022-01-27/2022-01-27_BINS_XETR06.csv'),\n",
       " s3.ObjectSummary(bucket_name='xetra-1234', key='2022-01-27/2022-01-27_BINS_XETR07.csv'),\n",
       " s3.ObjectSummary(bucket_name='xetra-1234', key='2022-01-27/2022-01-27_BINS_XETR08.csv'),\n",
       " s3.ObjectSummary(bucket_name='xetra-1234', key='2022-01-27/2022-01-27_BINS_XETR09.csv'),\n",
       " s3.ObjectSummary(bucket_name='xetra-1234', key='2022-01-27/2022-01-27_BINS_XETR10.csv'),\n",
       " s3.ObjectSummary(bucket_name='xetra-1234', key='2022-01-27/2022-01-27_BINS_XETR11.csv'),\n",
       " s3.ObjectSummary(bucket_name='xetra-1234', key='2022-01-27/2022-01-27_BINS_XETR12.csv'),\n",
       " s3.ObjectSummary(bucket_name='xetra-1234', key='2022-01-27/2022-01-27_BINS_XETR13.csv'),\n",
       " s3.ObjectSummary(bucket_name='xetra-1234', key='2022-01-27/2022-01-27_BINS_XETR14.csv'),\n",
       " s3.ObjectSummary(bucket_name='xetra-1234', key='2022-01-27/2022-01-27_BINS_XETR15.csv'),\n",
       " s3.ObjectSummary(bucket_name='xetra-1234', key='2022-01-27/2022-01-27_BINS_XETR16.csv'),\n",
       " s3.ObjectSummary(bucket_name='xetra-1234', key='2022-01-27/2022-01-27_BINS_XETR17.csv'),\n",
       " s3.ObjectSummary(bucket_name='xetra-1234', key='2022-01-27/2022-01-27_BINS_XETR18.csv'),\n",
       " s3.ObjectSummary(bucket_name='xetra-1234', key='2022-01-27/2022-01-27_BINS_XETR19.csv'),\n",
       " s3.ObjectSummary(bucket_name='xetra-1234', key='2022-01-27/2022-01-27_BINS_XETR20.csv'),\n",
       " s3.ObjectSummary(bucket_name='xetra-1234', key='2022-01-27/2022-01-27_BINS_XETR21.csv'),\n",
       " s3.ObjectSummary(bucket_name='xetra-1234', key='2022-01-27/2022-01-27_BINS_XETR22.csv'),\n",
       " s3.ObjectSummary(bucket_name='xetra-1234', key='2022-01-27/2022-01-27_BINS_XETR23.csv'),\n",
       " s3.ObjectSummary(bucket_name='xetra-1234', key='2022-01-28/2022-01-28_BINS_XETR00.csv'),\n",
       " s3.ObjectSummary(bucket_name='xetra-1234', key='2022-01-28/2022-01-28_BINS_XETR01.csv'),\n",
       " s3.ObjectSummary(bucket_name='xetra-1234', key='2022-01-28/2022-01-28_BINS_XETR02.csv'),\n",
       " s3.ObjectSummary(bucket_name='xetra-1234', key='2022-01-28/2022-01-28_BINS_XETR03.csv'),\n",
       " s3.ObjectSummary(bucket_name='xetra-1234', key='2022-01-28/2022-01-28_BINS_XETR04.csv'),\n",
       " s3.ObjectSummary(bucket_name='xetra-1234', key='2022-01-28/2022-01-28_BINS_XETR05.csv'),\n",
       " s3.ObjectSummary(bucket_name='xetra-1234', key='2022-01-28/2022-01-28_BINS_XETR06.csv'),\n",
       " s3.ObjectSummary(bucket_name='xetra-1234', key='2022-01-28/2022-01-28_BINS_XETR07.csv'),\n",
       " s3.ObjectSummary(bucket_name='xetra-1234', key='2022-01-28/2022-01-28_BINS_XETR08.csv'),\n",
       " s3.ObjectSummary(bucket_name='xetra-1234', key='2022-01-28/2022-01-28_BINS_XETR09.csv'),\n",
       " s3.ObjectSummary(bucket_name='xetra-1234', key='2022-01-28/2022-01-28_BINS_XETR10.csv'),\n",
       " s3.ObjectSummary(bucket_name='xetra-1234', key='2022-01-28/2022-01-28_BINS_XETR11.csv'),\n",
       " s3.ObjectSummary(bucket_name='xetra-1234', key='2022-01-28/2022-01-28_BINS_XETR12.csv'),\n",
       " s3.ObjectSummary(bucket_name='xetra-1234', key='2022-01-28/2022-01-28_BINS_XETR13.csv'),\n",
       " s3.ObjectSummary(bucket_name='xetra-1234', key='2022-01-28/2022-01-28_BINS_XETR14.csv'),\n",
       " s3.ObjectSummary(bucket_name='xetra-1234', key='2022-01-28/2022-01-28_BINS_XETR15.csv'),\n",
       " s3.ObjectSummary(bucket_name='xetra-1234', key='2022-01-28/2022-01-28_BINS_XETR16.csv'),\n",
       " s3.ObjectSummary(bucket_name='xetra-1234', key='2022-01-28/2022-01-28_BINS_XETR17.csv'),\n",
       " s3.ObjectSummary(bucket_name='xetra-1234', key='2022-01-28/2022-01-28_BINS_XETR18.csv'),\n",
       " s3.ObjectSummary(bucket_name='xetra-1234', key='2022-01-28/2022-01-28_BINS_XETR19.csv'),\n",
       " s3.ObjectSummary(bucket_name='xetra-1234', key='2022-01-28/2022-01-28_BINS_XETR20.csv'),\n",
       " s3.ObjectSummary(bucket_name='xetra-1234', key='2022-01-28/2022-01-28_BINS_XETR21.csv'),\n",
       " s3.ObjectSummary(bucket_name='xetra-1234', key='2022-01-28/2022-01-28_BINS_XETR22.csv'),\n",
       " s3.ObjectSummary(bucket_name='xetra-1234', key='2022-01-28/2022-01-28_BINS_XETR23.csv')]"
      ]
     },
     "execution_count": 9,
     "metadata": {},
     "output_type": "execute_result"
    }
   ],
   "source": [
    "objects"
   ]
  },
  {
   "cell_type": "code",
   "execution_count": 10,
   "id": "4899cb91-f56e-4631-8bdc-430bfdcf6a52",
   "metadata": {},
   "outputs": [],
   "source": [
    "csv_object_init=bucket.Object(key=objects[0].key).get().get('Body').read().decode('utf-8')\n",
    "data=StringIO(csv_object_init)\n",
    "df_init=pd.read_csv(data, delimiter=',')"
   ]
  },
  {
   "cell_type": "code",
   "execution_count": 11,
   "id": "6bb31a01-15c0-4e3f-944f-8edc05575888",
   "metadata": {},
   "outputs": [
    {
     "data": {
      "text/plain": [
       "Index(['ISIN', 'Mnemonic', 'SecurityDesc', 'SecurityType', 'Currency',\n",
       "       'SecurityID', 'Date', 'Time', 'StartPrice', 'MaxPrice', 'MinPrice',\n",
       "       'EndPrice', 'TradedVolume', 'NumberOfTrades'],\n",
       "      dtype='object')"
      ]
     },
     "execution_count": 11,
     "metadata": {},
     "output_type": "execute_result"
    }
   ],
   "source": [
    "df_init.columns"
   ]
  },
  {
   "cell_type": "code",
   "execution_count": 12,
   "id": "b4c80274-221f-465a-b6e5-be029c0e96e7",
   "metadata": {
    "scrolled": true
   },
   "outputs": [
    {
     "name": "stderr",
     "output_type": "stream",
     "text": [
      "C:\\Users\\ADMIN\\AppData\\Local\\Temp\\ipykernel_11744\\836491098.py:6: FutureWarning: The behavior of DataFrame concatenation with empty or all-NA entries is deprecated. In a future version, this will no longer exclude empty or all-NA columns when determining the result dtypes. To retain the old behavior, exclude the relevant entries before the concat operation.\n",
      "  df_all = pd.concat([df_all, df], ignore_index=True)\n",
      "C:\\Users\\ADMIN\\AppData\\Local\\Temp\\ipykernel_11744\\836491098.py:6: FutureWarning: The behavior of DataFrame concatenation with empty or all-NA entries is deprecated. In a future version, this will no longer exclude empty or all-NA columns when determining the result dtypes. To retain the old behavior, exclude the relevant entries before the concat operation.\n",
      "  df_all = pd.concat([df_all, df], ignore_index=True)\n",
      "C:\\Users\\ADMIN\\AppData\\Local\\Temp\\ipykernel_11744\\836491098.py:6: FutureWarning: The behavior of DataFrame concatenation with empty or all-NA entries is deprecated. In a future version, this will no longer exclude empty or all-NA columns when determining the result dtypes. To retain the old behavior, exclude the relevant entries before the concat operation.\n",
      "  df_all = pd.concat([df_all, df], ignore_index=True)\n",
      "C:\\Users\\ADMIN\\AppData\\Local\\Temp\\ipykernel_11744\\836491098.py:6: FutureWarning: The behavior of DataFrame concatenation with empty or all-NA entries is deprecated. In a future version, this will no longer exclude empty or all-NA columns when determining the result dtypes. To retain the old behavior, exclude the relevant entries before the concat operation.\n",
      "  df_all = pd.concat([df_all, df], ignore_index=True)\n",
      "C:\\Users\\ADMIN\\AppData\\Local\\Temp\\ipykernel_11744\\836491098.py:6: FutureWarning: The behavior of DataFrame concatenation with empty or all-NA entries is deprecated. In a future version, this will no longer exclude empty or all-NA columns when determining the result dtypes. To retain the old behavior, exclude the relevant entries before the concat operation.\n",
      "  df_all = pd.concat([df_all, df], ignore_index=True)\n",
      "C:\\Users\\ADMIN\\AppData\\Local\\Temp\\ipykernel_11744\\836491098.py:6: FutureWarning: The behavior of DataFrame concatenation with empty or all-NA entries is deprecated. In a future version, this will no longer exclude empty or all-NA columns when determining the result dtypes. To retain the old behavior, exclude the relevant entries before the concat operation.\n",
      "  df_all = pd.concat([df_all, df], ignore_index=True)\n",
      "C:\\Users\\ADMIN\\AppData\\Local\\Temp\\ipykernel_11744\\836491098.py:6: FutureWarning: The behavior of DataFrame concatenation with empty or all-NA entries is deprecated. In a future version, this will no longer exclude empty or all-NA columns when determining the result dtypes. To retain the old behavior, exclude the relevant entries before the concat operation.\n",
      "  df_all = pd.concat([df_all, df], ignore_index=True)\n",
      "C:\\Users\\ADMIN\\AppData\\Local\\Temp\\ipykernel_11744\\836491098.py:6: FutureWarning: The behavior of DataFrame concatenation with empty or all-NA entries is deprecated. In a future version, this will no longer exclude empty or all-NA columns when determining the result dtypes. To retain the old behavior, exclude the relevant entries before the concat operation.\n",
      "  df_all = pd.concat([df_all, df], ignore_index=True)\n",
      "C:\\Users\\ADMIN\\AppData\\Local\\Temp\\ipykernel_11744\\836491098.py:6: FutureWarning: The behavior of DataFrame concatenation with empty or all-NA entries is deprecated. In a future version, this will no longer exclude empty or all-NA columns when determining the result dtypes. To retain the old behavior, exclude the relevant entries before the concat operation.\n",
      "  df_all = pd.concat([df_all, df], ignore_index=True)\n",
      "C:\\Users\\ADMIN\\AppData\\Local\\Temp\\ipykernel_11744\\836491098.py:6: FutureWarning: The behavior of DataFrame concatenation with empty or all-NA entries is deprecated. In a future version, this will no longer exclude empty or all-NA columns when determining the result dtypes. To retain the old behavior, exclude the relevant entries before the concat operation.\n",
      "  df_all = pd.concat([df_all, df], ignore_index=True)\n",
      "C:\\Users\\ADMIN\\AppData\\Local\\Temp\\ipykernel_11744\\836491098.py:6: FutureWarning: The behavior of DataFrame concatenation with empty or all-NA entries is deprecated. In a future version, this will no longer exclude empty or all-NA columns when determining the result dtypes. To retain the old behavior, exclude the relevant entries before the concat operation.\n",
      "  df_all = pd.concat([df_all, df], ignore_index=True)\n",
      "C:\\Users\\ADMIN\\AppData\\Local\\Temp\\ipykernel_11744\\836491098.py:6: FutureWarning: The behavior of DataFrame concatenation with empty or all-NA entries is deprecated. In a future version, this will no longer exclude empty or all-NA columns when determining the result dtypes. To retain the old behavior, exclude the relevant entries before the concat operation.\n",
      "  df_all = pd.concat([df_all, df], ignore_index=True)\n",
      "C:\\Users\\ADMIN\\AppData\\Local\\Temp\\ipykernel_11744\\836491098.py:6: FutureWarning: The behavior of DataFrame concatenation with empty or all-NA entries is deprecated. In a future version, this will no longer exclude empty or all-NA columns when determining the result dtypes. To retain the old behavior, exclude the relevant entries before the concat operation.\n",
      "  df_all = pd.concat([df_all, df], ignore_index=True)\n",
      "C:\\Users\\ADMIN\\AppData\\Local\\Temp\\ipykernel_11744\\836491098.py:6: FutureWarning: The behavior of DataFrame concatenation with empty or all-NA entries is deprecated. In a future version, this will no longer exclude empty or all-NA columns when determining the result dtypes. To retain the old behavior, exclude the relevant entries before the concat operation.\n",
      "  df_all = pd.concat([df_all, df], ignore_index=True)\n",
      "C:\\Users\\ADMIN\\AppData\\Local\\Temp\\ipykernel_11744\\836491098.py:6: FutureWarning: The behavior of DataFrame concatenation with empty or all-NA entries is deprecated. In a future version, this will no longer exclude empty or all-NA columns when determining the result dtypes. To retain the old behavior, exclude the relevant entries before the concat operation.\n",
      "  df_all = pd.concat([df_all, df], ignore_index=True)\n",
      "C:\\Users\\ADMIN\\AppData\\Local\\Temp\\ipykernel_11744\\836491098.py:6: FutureWarning: The behavior of DataFrame concatenation with empty or all-NA entries is deprecated. In a future version, this will no longer exclude empty or all-NA columns when determining the result dtypes. To retain the old behavior, exclude the relevant entries before the concat operation.\n",
      "  df_all = pd.concat([df_all, df], ignore_index=True)\n",
      "C:\\Users\\ADMIN\\AppData\\Local\\Temp\\ipykernel_11744\\836491098.py:6: FutureWarning: The behavior of DataFrame concatenation with empty or all-NA entries is deprecated. In a future version, this will no longer exclude empty or all-NA columns when determining the result dtypes. To retain the old behavior, exclude the relevant entries before the concat operation.\n",
      "  df_all = pd.concat([df_all, df], ignore_index=True)\n",
      "C:\\Users\\ADMIN\\AppData\\Local\\Temp\\ipykernel_11744\\836491098.py:6: FutureWarning: The behavior of DataFrame concatenation with empty or all-NA entries is deprecated. In a future version, this will no longer exclude empty or all-NA columns when determining the result dtypes. To retain the old behavior, exclude the relevant entries before the concat operation.\n",
      "  df_all = pd.concat([df_all, df], ignore_index=True)\n",
      "C:\\Users\\ADMIN\\AppData\\Local\\Temp\\ipykernel_11744\\836491098.py:6: FutureWarning: The behavior of DataFrame concatenation with empty or all-NA entries is deprecated. In a future version, this will no longer exclude empty or all-NA columns when determining the result dtypes. To retain the old behavior, exclude the relevant entries before the concat operation.\n",
      "  df_all = pd.concat([df_all, df], ignore_index=True)\n",
      "C:\\Users\\ADMIN\\AppData\\Local\\Temp\\ipykernel_11744\\836491098.py:6: FutureWarning: The behavior of DataFrame concatenation with empty or all-NA entries is deprecated. In a future version, this will no longer exclude empty or all-NA columns when determining the result dtypes. To retain the old behavior, exclude the relevant entries before the concat operation.\n",
      "  df_all = pd.concat([df_all, df], ignore_index=True)\n",
      "C:\\Users\\ADMIN\\AppData\\Local\\Temp\\ipykernel_11744\\836491098.py:6: FutureWarning: The behavior of DataFrame concatenation with empty or all-NA entries is deprecated. In a future version, this will no longer exclude empty or all-NA columns when determining the result dtypes. To retain the old behavior, exclude the relevant entries before the concat operation.\n",
      "  df_all = pd.concat([df_all, df], ignore_index=True)\n",
      "C:\\Users\\ADMIN\\AppData\\Local\\Temp\\ipykernel_11744\\836491098.py:6: FutureWarning: The behavior of DataFrame concatenation with empty or all-NA entries is deprecated. In a future version, this will no longer exclude empty or all-NA columns when determining the result dtypes. To retain the old behavior, exclude the relevant entries before the concat operation.\n",
      "  df_all = pd.concat([df_all, df], ignore_index=True)\n"
     ]
    }
   ],
   "source": [
    "df_all=pd.DataFrame(columns=df_init.columns)\n",
    "for obj in objects:\n",
    "    csv_obj = bucket.Object(key=obj.key).get().get('Body').read().decode('utf-8')\n",
    "    data=StringIO(csv_obj)\n",
    "    df=pd.read_csv(data, delimiter=',')\n",
    "    df_all = pd.concat([df_all, df], ignore_index=True)"
   ]
  },
  {
   "cell_type": "code",
   "execution_count": 13,
   "id": "fc680a92-c84f-42a0-812f-f24035287a4e",
   "metadata": {},
   "outputs": [],
   "source": [
    "columns=['ISIN','Date', 'Time', 'StartPrice', 'MaxPrice', 'MinPrice',\n",
    "       'EndPrice', 'TradedVolume']\n",
    "df_all=df_all.loc[:,columns]"
   ]
  },
  {
   "cell_type": "code",
   "execution_count": 14,
   "id": "6e43b7f8-b231-48e2-9ef1-d3c191d2a879",
   "metadata": {},
   "outputs": [],
   "source": [
    "df_all.dropna(inplace=True)"
   ]
  },
  {
   "cell_type": "code",
   "execution_count": 15,
   "id": "b10dbf2f-c557-4c97-a520-3a58c4ccadd9",
   "metadata": {},
   "outputs": [
    {
     "data": {
      "text/plain": [
       "(250384, 8)"
      ]
     },
     "execution_count": 15,
     "metadata": {},
     "output_type": "execute_result"
    }
   ],
   "source": [
    "df_all.shape"
   ]
  },
  {
   "cell_type": "markdown",
   "id": "bcfdc9c0-c2ed-4d2d-920a-3453e94023e8",
   "metadata": {},
   "source": [
    "# Get opening price per ISIN and day"
   ]
  },
  {
   "cell_type": "code",
   "execution_count": 21,
   "id": "f22165ab-48cb-48c3-8bf1-83850d18e8b7",
   "metadata": {},
   "outputs": [],
   "source": [
    "df_all['opening_price']=df_all.sort_values(by=['Time']).groupby(['ISIN','Date'])['StartPrice'].transform('first')"
   ]
  },
  {
   "cell_type": "code",
   "execution_count": 17,
   "id": "2c5e6a70-3a83-4872-a40a-67e36892afe2",
   "metadata": {},
   "outputs": [
    {
     "data": {
      "text/plain": [
       "\"df_all.sort_values(by=['Time']): Sorts the DataFrame by Time.\\ngroupby(['ISIN', 'Date']): Groups the DataFrame by ISIN and Date.\\ntransform('first'): Applies the first() function to each group, \\nreturning the first value in the StartPrice column for each group.\""
      ]
     },
     "execution_count": 17,
     "metadata": {},
     "output_type": "execute_result"
    }
   ],
   "source": [
    "'''df_all.sort_values(by=['Time']): Sorts the DataFrame by Time.\n",
    "groupby(['ISIN', 'Date']): Groups the DataFrame by ISIN and Date.\n",
    "transform('first'): Applies the first() function to each group, \n",
    "returning the first value in the StartPrice column for each group.'''"
   ]
  },
  {
   "cell_type": "markdown",
   "id": "50df59d7-523d-43a7-8d91-02ca76359dbe",
   "metadata": {},
   "source": [
    "# Get closing price per ISIN and day¶"
   ]
  },
  {
   "cell_type": "code",
   "execution_count": 22,
   "id": "4f77c018-d185-46e2-9598-874f79451d28",
   "metadata": {},
   "outputs": [],
   "source": [
    "df_all['closing_price']=df_all.sort_values(by=['Time']).groupby(['ISIN','Date'])['StartPrice'].transform('last')"
   ]
  },
  {
   "cell_type": "code",
   "execution_count": 19,
   "id": "31e3acdc-bff1-416e-acd6-2a44c499c0bb",
   "metadata": {},
   "outputs": [
    {
     "data": {
      "text/html": [
       "<div>\n",
       "<style scoped>\n",
       "    .dataframe tbody tr th:only-of-type {\n",
       "        vertical-align: middle;\n",
       "    }\n",
       "\n",
       "    .dataframe tbody tr th {\n",
       "        vertical-align: top;\n",
       "    }\n",
       "\n",
       "    .dataframe thead th {\n",
       "        text-align: right;\n",
       "    }\n",
       "</style>\n",
       "<table border=\"1\" class=\"dataframe\">\n",
       "  <thead>\n",
       "    <tr style=\"text-align: right;\">\n",
       "      <th></th>\n",
       "      <th>ISIN</th>\n",
       "      <th>Date</th>\n",
       "      <th>Time</th>\n",
       "      <th>StartPrice</th>\n",
       "      <th>MaxPrice</th>\n",
       "      <th>MinPrice</th>\n",
       "      <th>EndPrice</th>\n",
       "      <th>TradedVolume</th>\n",
       "      <th>opening_price</th>\n",
       "    </tr>\n",
       "  </thead>\n",
       "  <tbody>\n",
       "    <tr>\n",
       "      <th>0</th>\n",
       "      <td>AT0000A0E9W5</td>\n",
       "      <td>2022-01-27</td>\n",
       "      <td>08:00</td>\n",
       "      <td>16.35</td>\n",
       "      <td>16.40</td>\n",
       "      <td>16.35</td>\n",
       "      <td>16.38</td>\n",
       "      <td>7258</td>\n",
       "      <td>16.54</td>\n",
       "    </tr>\n",
       "    <tr>\n",
       "      <th>1</th>\n",
       "      <td>DE000A0D6554</td>\n",
       "      <td>2022-01-27</td>\n",
       "      <td>08:00</td>\n",
       "      <td>13.11</td>\n",
       "      <td>13.20</td>\n",
       "      <td>13.09</td>\n",
       "      <td>13.13</td>\n",
       "      <td>28264</td>\n",
       "      <td>13.48</td>\n",
       "    </tr>\n",
       "    <tr>\n",
       "      <th>2</th>\n",
       "      <td>DE000A0HN5C6</td>\n",
       "      <td>2022-01-27</td>\n",
       "      <td>08:00</td>\n",
       "      <td>35.39</td>\n",
       "      <td>35.39</td>\n",
       "      <td>35.39</td>\n",
       "      <td>35.39</td>\n",
       "      <td>98</td>\n",
       "      <td>35.74</td>\n",
       "    </tr>\n",
       "    <tr>\n",
       "      <th>3</th>\n",
       "      <td>DE000A0JL9W6</td>\n",
       "      <td>2022-01-27</td>\n",
       "      <td>08:00</td>\n",
       "      <td>50.20</td>\n",
       "      <td>50.25</td>\n",
       "      <td>49.26</td>\n",
       "      <td>49.34</td>\n",
       "      <td>19183</td>\n",
       "      <td>51.95</td>\n",
       "    </tr>\n",
       "    <tr>\n",
       "      <th>4</th>\n",
       "      <td>DE000A0LD2U1</td>\n",
       "      <td>2022-01-27</td>\n",
       "      <td>08:00</td>\n",
       "      <td>19.50</td>\n",
       "      <td>19.50</td>\n",
       "      <td>19.49</td>\n",
       "      <td>19.49</td>\n",
       "      <td>2537</td>\n",
       "      <td>19.50</td>\n",
       "    </tr>\n",
       "    <tr>\n",
       "      <th>...</th>\n",
       "      <td>...</td>\n",
       "      <td>...</td>\n",
       "      <td>...</td>\n",
       "      <td>...</td>\n",
       "      <td>...</td>\n",
       "      <td>...</td>\n",
       "      <td>...</td>\n",
       "      <td>...</td>\n",
       "      <td>...</td>\n",
       "    </tr>\n",
       "    <tr>\n",
       "      <th>250379</th>\n",
       "      <td>DE0007165631</td>\n",
       "      <td>2022-01-28</td>\n",
       "      <td>16:44</td>\n",
       "      <td>465.50</td>\n",
       "      <td>465.50</td>\n",
       "      <td>465.50</td>\n",
       "      <td>465.50</td>\n",
       "      <td>10</td>\n",
       "      <td>465.50</td>\n",
       "    </tr>\n",
       "    <tr>\n",
       "      <th>250380</th>\n",
       "      <td>DE000A2N4H07</td>\n",
       "      <td>2022-01-28</td>\n",
       "      <td>16:44</td>\n",
       "      <td>20.62</td>\n",
       "      <td>20.62</td>\n",
       "      <td>20.62</td>\n",
       "      <td>20.62</td>\n",
       "      <td>1</td>\n",
       "      <td>20.62</td>\n",
       "    </tr>\n",
       "    <tr>\n",
       "      <th>250381</th>\n",
       "      <td>LU1899270539</td>\n",
       "      <td>2022-01-28</td>\n",
       "      <td>16:52</td>\n",
       "      <td>107.50</td>\n",
       "      <td>107.50</td>\n",
       "      <td>107.50</td>\n",
       "      <td>107.50</td>\n",
       "      <td>48</td>\n",
       "      <td>107.50</td>\n",
       "    </tr>\n",
       "    <tr>\n",
       "      <th>250382</th>\n",
       "      <td>LU2249056297</td>\n",
       "      <td>2022-01-28</td>\n",
       "      <td>16:52</td>\n",
       "      <td>57.75</td>\n",
       "      <td>57.75</td>\n",
       "      <td>57.75</td>\n",
       "      <td>57.75</td>\n",
       "      <td>56</td>\n",
       "      <td>57.75</td>\n",
       "    </tr>\n",
       "    <tr>\n",
       "      <th>250383</th>\n",
       "      <td>LU1974695790</td>\n",
       "      <td>2022-01-28</td>\n",
       "      <td>16:53</td>\n",
       "      <td>12.20</td>\n",
       "      <td>12.20</td>\n",
       "      <td>12.20</td>\n",
       "      <td>12.20</td>\n",
       "      <td>91</td>\n",
       "      <td>12.20</td>\n",
       "    </tr>\n",
       "  </tbody>\n",
       "</table>\n",
       "<p>250384 rows × 9 columns</p>\n",
       "</div>"
      ],
      "text/plain": [
       "                ISIN        Date   Time  StartPrice  MaxPrice  MinPrice  \\\n",
       "0       AT0000A0E9W5  2022-01-27  08:00       16.35     16.40     16.35   \n",
       "1       DE000A0D6554  2022-01-27  08:00       13.11     13.20     13.09   \n",
       "2       DE000A0HN5C6  2022-01-27  08:00       35.39     35.39     35.39   \n",
       "3       DE000A0JL9W6  2022-01-27  08:00       50.20     50.25     49.26   \n",
       "4       DE000A0LD2U1  2022-01-27  08:00       19.50     19.50     19.49   \n",
       "...              ...         ...    ...         ...       ...       ...   \n",
       "250379  DE0007165631  2022-01-28  16:44      465.50    465.50    465.50   \n",
       "250380  DE000A2N4H07  2022-01-28  16:44       20.62     20.62     20.62   \n",
       "250381  LU1899270539  2022-01-28  16:52      107.50    107.50    107.50   \n",
       "250382  LU2249056297  2022-01-28  16:52       57.75     57.75     57.75   \n",
       "250383  LU1974695790  2022-01-28  16:53       12.20     12.20     12.20   \n",
       "\n",
       "        EndPrice TradedVolume  opening_price  \n",
       "0          16.38         7258          16.54  \n",
       "1          13.13        28264          13.48  \n",
       "2          35.39           98          35.74  \n",
       "3          49.34        19183          51.95  \n",
       "4          19.49         2537          19.50  \n",
       "...          ...          ...            ...  \n",
       "250379    465.50           10         465.50  \n",
       "250380     20.62            1          20.62  \n",
       "250381    107.50           48         107.50  \n",
       "250382     57.75           56          57.75  \n",
       "250383     12.20           91          12.20  \n",
       "\n",
       "[250384 rows x 9 columns]"
      ]
     },
     "execution_count": 19,
     "metadata": {},
     "output_type": "execute_result"
    }
   ],
   "source": [
    "df_all"
   ]
  },
  {
   "cell_type": "markdown",
   "id": "e49d2d07-605e-4b45-834c-c8a5221009ef",
   "metadata": {},
   "source": [
    "# Aggregations"
   ]
  },
  {
   "cell_type": "code",
   "execution_count": 23,
   "id": "07ca44a3-c3fa-4fb8-a84c-ccf756c7530d",
   "metadata": {},
   "outputs": [],
   "source": [
    "df_all = df_all.groupby(['ISIN', 'Date'], as_index=False).agg(opening_price_eur=('opening_price', 'min'), closing_price_eur=('closing_price', 'min'), minimum_price_eur=('MinPrice', 'min'), maximum_price_eur=('MaxPrice', 'max'), daily_traded_volume=('TradedVolume', 'sum'))"
   ]
  },
  {
   "cell_type": "code",
   "execution_count": 25,
   "id": "4216747e-a96d-4f61-b98a-6dd1aad33dad",
   "metadata": {},
   "outputs": [
    {
     "data": {
      "text/html": [
       "<div>\n",
       "<style scoped>\n",
       "    .dataframe tbody tr th:only-of-type {\n",
       "        vertical-align: middle;\n",
       "    }\n",
       "\n",
       "    .dataframe tbody tr th {\n",
       "        vertical-align: top;\n",
       "    }\n",
       "\n",
       "    .dataframe thead th {\n",
       "        text-align: right;\n",
       "    }\n",
       "</style>\n",
       "<table border=\"1\" class=\"dataframe\">\n",
       "  <thead>\n",
       "    <tr style=\"text-align: right;\">\n",
       "      <th></th>\n",
       "      <th>ISIN</th>\n",
       "      <th>Date</th>\n",
       "      <th>opening_price_eur</th>\n",
       "      <th>closing_price_eur</th>\n",
       "      <th>minimum_price_eur</th>\n",
       "      <th>maximum_price_eur</th>\n",
       "      <th>daily_traded_volume</th>\n",
       "    </tr>\n",
       "  </thead>\n",
       "  <tbody>\n",
       "    <tr>\n",
       "      <th>0</th>\n",
       "      <td>AT000000STR1</td>\n",
       "      <td>2022-01-27</td>\n",
       "      <td>37.600</td>\n",
       "      <td>37.000</td>\n",
       "      <td>37.000</td>\n",
       "      <td>37.900</td>\n",
       "      <td>485</td>\n",
       "    </tr>\n",
       "    <tr>\n",
       "      <th>1</th>\n",
       "      <td>AT000000STR1</td>\n",
       "      <td>2022-01-28</td>\n",
       "      <td>38.050</td>\n",
       "      <td>37.000</td>\n",
       "      <td>37.000</td>\n",
       "      <td>38.050</td>\n",
       "      <td>456</td>\n",
       "    </tr>\n",
       "    <tr>\n",
       "      <th>2</th>\n",
       "      <td>AT00000FACC2</td>\n",
       "      <td>2022-01-27</td>\n",
       "      <td>7.640</td>\n",
       "      <td>7.620</td>\n",
       "      <td>7.620</td>\n",
       "      <td>7.640</td>\n",
       "      <td>60</td>\n",
       "    </tr>\n",
       "    <tr>\n",
       "      <th>3</th>\n",
       "      <td>AT00000FACC2</td>\n",
       "      <td>2022-01-28</td>\n",
       "      <td>7.660</td>\n",
       "      <td>7.520</td>\n",
       "      <td>7.520</td>\n",
       "      <td>7.660</td>\n",
       "      <td>610</td>\n",
       "    </tr>\n",
       "    <tr>\n",
       "      <th>4</th>\n",
       "      <td>AT0000606306</td>\n",
       "      <td>2022-01-27</td>\n",
       "      <td>24.160</td>\n",
       "      <td>25.080</td>\n",
       "      <td>24.160</td>\n",
       "      <td>25.260</td>\n",
       "      <td>1363</td>\n",
       "    </tr>\n",
       "    <tr>\n",
       "      <th>...</th>\n",
       "      <td>...</td>\n",
       "      <td>...</td>\n",
       "      <td>...</td>\n",
       "      <td>...</td>\n",
       "      <td>...</td>\n",
       "      <td>...</td>\n",
       "      <td>...</td>\n",
       "    </tr>\n",
       "    <tr>\n",
       "      <th>6360</th>\n",
       "      <td>XS2314659447</td>\n",
       "      <td>2022-01-28</td>\n",
       "      <td>8.774</td>\n",
       "      <td>8.576</td>\n",
       "      <td>8.570</td>\n",
       "      <td>8.774</td>\n",
       "      <td>1037</td>\n",
       "    </tr>\n",
       "    <tr>\n",
       "      <th>6361</th>\n",
       "      <td>XS2314660700</td>\n",
       "      <td>2022-01-27</td>\n",
       "      <td>20.206</td>\n",
       "      <td>20.316</td>\n",
       "      <td>20.206</td>\n",
       "      <td>20.472</td>\n",
       "      <td>148</td>\n",
       "    </tr>\n",
       "    <tr>\n",
       "      <th>6362</th>\n",
       "      <td>XS2314660700</td>\n",
       "      <td>2022-01-28</td>\n",
       "      <td>20.328</td>\n",
       "      <td>20.246</td>\n",
       "      <td>20.054</td>\n",
       "      <td>20.328</td>\n",
       "      <td>58</td>\n",
       "    </tr>\n",
       "    <tr>\n",
       "      <th>6363</th>\n",
       "      <td>XS2376095068</td>\n",
       "      <td>2022-01-27</td>\n",
       "      <td>32.216</td>\n",
       "      <td>32.884</td>\n",
       "      <td>32.216</td>\n",
       "      <td>33.326</td>\n",
       "      <td>11504</td>\n",
       "    </tr>\n",
       "    <tr>\n",
       "      <th>6364</th>\n",
       "      <td>XS2376095068</td>\n",
       "      <td>2022-01-28</td>\n",
       "      <td>32.988</td>\n",
       "      <td>33.230</td>\n",
       "      <td>32.766</td>\n",
       "      <td>33.230</td>\n",
       "      <td>0</td>\n",
       "    </tr>\n",
       "  </tbody>\n",
       "</table>\n",
       "<p>6365 rows × 7 columns</p>\n",
       "</div>"
      ],
      "text/plain": [
       "              ISIN        Date  opening_price_eur  closing_price_eur  \\\n",
       "0     AT000000STR1  2022-01-27             37.600             37.000   \n",
       "1     AT000000STR1  2022-01-28             38.050             37.000   \n",
       "2     AT00000FACC2  2022-01-27              7.640              7.620   \n",
       "3     AT00000FACC2  2022-01-28              7.660              7.520   \n",
       "4     AT0000606306  2022-01-27             24.160             25.080   \n",
       "...            ...         ...                ...                ...   \n",
       "6360  XS2314659447  2022-01-28              8.774              8.576   \n",
       "6361  XS2314660700  2022-01-27             20.206             20.316   \n",
       "6362  XS2314660700  2022-01-28             20.328             20.246   \n",
       "6363  XS2376095068  2022-01-27             32.216             32.884   \n",
       "6364  XS2376095068  2022-01-28             32.988             33.230   \n",
       "\n",
       "      minimum_price_eur  maximum_price_eur daily_traded_volume  \n",
       "0                37.000             37.900                 485  \n",
       "1                37.000             38.050                 456  \n",
       "2                 7.620              7.640                  60  \n",
       "3                 7.520              7.660                 610  \n",
       "4                24.160             25.260                1363  \n",
       "...                 ...                ...                 ...  \n",
       "6360              8.570              8.774                1037  \n",
       "6361             20.206             20.472                 148  \n",
       "6362             20.054             20.328                  58  \n",
       "6363             32.216             33.326               11504  \n",
       "6364             32.766             33.230                   0  \n",
       "\n",
       "[6365 rows x 7 columns]"
      ]
     },
     "execution_count": 25,
     "metadata": {},
     "output_type": "execute_result"
    }
   ],
   "source": [
    "df_all"
   ]
  },
  {
   "cell_type": "markdown",
   "id": "80b19e41-ce41-48d9-9e65-d28c6001d8f0",
   "metadata": {},
   "source": [
    "# percent change prev closing"
   ]
  },
  {
   "cell_type": "code",
   "execution_count": 26,
   "id": "a5f95cbb-2686-465f-91b5-575c5d8d20ee",
   "metadata": {},
   "outputs": [],
   "source": [
    "df_all['prev_closing_price'] = df_all.sort_values(by=['Date']).groupby(['ISIN'])['closing_price_eur'].shift(1)"
   ]
  },
  {
   "cell_type": "code",
   "execution_count": 27,
   "id": "101dbe1f-6bb2-454e-a6e3-ee49a8d9386b",
   "metadata": {},
   "outputs": [],
   "source": [
    "df_all['change_prev_closing_%'] = (df_all['closing_price_eur'] - df_all['prev_closing_price']) / df_all['prev_closing_price'] * 100\n",
    "df_all.drop(columns=['prev_closing_price'], inplace=True)"
   ]
  },
  {
   "cell_type": "code",
   "execution_count": null,
   "id": "1220c106-a831-4f1c-8631-84896cbaf3da",
   "metadata": {},
   "outputs": [],
   "source": []
  }
 ],
 "metadata": {
  "kernelspec": {
   "display_name": "Python 3 (ipykernel)",
   "language": "python",
   "name": "python3"
  },
  "language_info": {
   "codemirror_mode": {
    "name": "ipython",
    "version": 3
   },
   "file_extension": ".py",
   "mimetype": "text/x-python",
   "name": "python",
   "nbconvert_exporter": "python",
   "pygments_lexer": "ipython3",
   "version": "3.12.2"
  }
 },
 "nbformat": 4,
 "nbformat_minor": 5
}
